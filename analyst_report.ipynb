{
 "cells": [
  {
   "cell_type": "code",
   "execution_count": null,
   "metadata": {},
   "outputs": [
    {
     "data": {
      "text/plain": [
       "''"
      ]
     },
     "execution_count": 6,
     "metadata": {},
     "output_type": "execute_result"
    }
   ],
   "source": [
    "# Import the FPDF library\n",
    "from fpdf import FPDF\n",
    "\n",
    "# Demonstrate cursor movement\n",
    "pdf = FPDF()\n",
    "pdf.add_page()\n",
    "pdf.set_font('Arial', '', 12)\n",
    "pdf.cell(200, 10, txt=\"Centuria Industrial Reit Equity Research Report\", ln=True, align=\"C\")\n",
    "pdf.cell(200, 10, txt=\"Mitchell Brown, El Dickson, Robin Phillips, Payton Willcocks\", ln=True, align=\"C\")\n",
    "pdf.output(\"my_pdf.pdf\")\n",
    "\n",
    "\n"
   ]
  }
 ],
 "metadata": {
  "kernelspec": {
   "display_name": "Python 3",
   "language": "python",
   "name": "python3"
  },
  "language_info": {
   "codemirror_mode": {
    "name": "ipython",
    "version": 3
   },
   "file_extension": ".py",
   "mimetype": "text/x-python",
   "name": "python",
   "nbconvert_exporter": "python",
   "pygments_lexer": "ipython3",
   "version": "3.13.2"
  }
 },
 "nbformat": 4,
 "nbformat_minor": 2
}
