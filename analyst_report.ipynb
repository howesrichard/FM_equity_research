{
 "cells": [
  {
   "cell_type": "code",
   "execution_count": null,
   "id": "d41beecc",
   "metadata": {},
   "outputs": [],
   "source": [
    "#hi hiuf"
   ]
  }
 ],
 "metadata": {
  "language_info": {
   "name": "python"
  }
 },
 "nbformat": 4,
 "nbformat_minor": 5
}
