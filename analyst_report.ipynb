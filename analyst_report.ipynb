{
 "cells": [
  {
   "cell_type": "code",
   "execution_count": null,
   "id": "d41beecc",
   "metadata": {},
   "outputs": [
    {
     "name": "stderr",
     "output_type": "stream",
     "text": [
      "C:\\Users\\lawre\\AppData\\Local\\Temp\\ipykernel_30044\\528245166.py:23: DeprecationWarning: Substituting font arial by core font helvetica - This is deprecated since v2.7.8, and will soon be removed\n",
      "  pdf.set_font('Arial', 'B', 16)\n",
      "C:\\Users\\lawre\\AppData\\Local\\Temp\\ipykernel_30044\\528245166.py:24: DeprecationWarning: The parameter \"ln\" is deprecated since v2.5.2. Instead of ln=True use new_x=XPos.LMARGIN, new_y=YPos.NEXT.\n",
      "  pdf.cell(0, 10, f\"{company_name} ({TICKER}) Equity Research Report\", ln=True, align='C')\n",
      "C:\\Users\\lawre\\AppData\\Local\\Temp\\ipykernel_30044\\528245166.py:45: DeprecationWarning: Substituting font arial by core font helvetica - This is deprecated since v2.7.8, and will soon be removed\n",
      "  pdf.set_font('Arial', 'B', 12)\n",
      "C:\\Users\\lawre\\AppData\\Local\\Temp\\ipykernel_30044\\528245166.py:46: DeprecationWarning: The parameter \"ln\" is deprecated since v2.5.2. Instead of ln=1 use new_x=XPos.LMARGIN, new_y=YPos.NEXT.\n",
      "  pdf.cell(0, 10, 'Presented by: Lawrence Chen, Harris Zhong, Baran Esmaeili, George Scanlan', 0, 1)\n",
      "C:\\Users\\lawre\\AppData\\Local\\Temp\\ipykernel_30044\\528245166.py:47: DeprecationWarning: Substituting font arial by core font helvetica - This is deprecated since v2.7.8, and will soon be removed\n",
      "  pdf.set_font('Arial', '', 10)\n"
     ]
    }
   ],
   "source": [
    "from fpdf import FPDF\n",
    "from Stock_Graph import plot_stock\n",
    "import yfinance as yf\n",
    "import os\n",
    "\n",
    "# Input\n",
    "TICKER = input(\"Enter stock ticker (e.g. VAU.AX): \").upper()\n",
    "stock = yf.Ticker(TICKER)\n",
    "company_name = stock.info.get('longName') or stock.info.get('shortName') or TICKER\n",
    "\n",
    "# File paths\n",
    "image_folder = \"plots\"\n",
    "graph_filename = f\"{TICKER}_stock_graph.png\"\n",
    "graph_path = os.path.join(image_folder, graph_filename)\n",
    "os.makedirs(image_folder, exist_ok=True)\n",
    "\n",
    "# Plot the graph\n",
    "plot_stock(TICKER, save_path=graph_path)\n",
    "\n",
    "# PDF generation\n",
    "pdf = FPDF()\n",
    "pdf.add_page()\n",
    "pdf.set_font('Arial', 'B', 16)\n",
    "pdf.cell(0, 10, f\"{company_name} ({TICKER}) Equity Research Report\", ln=True, align='C')\n",
    "\n",
    "#Adding Image\n",
    "\n",
    "\n",
    "# Add an image (replace 'example.jpg' with an actual image file path)\n",
    "sample_image = 'VM_Image.jpg'\n",
    "if os.path.exists(sample_image):\n",
    "    pdf.image(sample_image, x=10, y=20, w=70)\n",
    "    pdf.ln(40)  # Leave space after the image\n",
    "else:\n",
    "    pdf.cell(0, 10, 'Image example (image file not found)', 0, 1)\n",
    "    pdf.cell(0, 10, 'Replace \"example.jpg\" with your image path', 0, 1)\n",
    "\n",
    "\n",
    "# Add graph\n",
    "if os.path.exists(graph_path):\n",
    "    pdf.image(graph_path, x=25, y=50, w=100)\n",
    "    pdf.ln(40)\n",
    "\n",
    "# Team + description\n",
    "pdf.set_font('Arial', 'B', 12)\n",
    "pdf.cell(0, 10, 'Presented by: Lawrence Chen, Harris Zhong, Baran Esmaeili, George Scanlan', 0, 1)\n",
    "pdf.set_font('Arial', '', 10)\n",
    "pdf.multi_cell(0, 5, f'This equity research report will cover {company_name} and a recommendation will be provided based on a valuation model.')\n",
    "\n",
    "# Output\n",
    "pdf.output(f\"equity_research_{TICKER}.pdf\")\n"
   ]
  }
 ],
 "metadata": {
  "kernelspec": {
   "display_name": "Python 3.13.3",
   "language": "python",
   "name": "py313"
  },
  "language_info": {
   "codemirror_mode": {
    "name": "ipython",
    "version": 3
   },
   "file_extension": ".py",
   "mimetype": "text/x-python",
   "name": "python",
   "nbconvert_exporter": "python",
   "pygments_lexer": "ipython3",
   "version": "3.13.3"
  }
 },
 "nbformat": 4,
 "nbformat_minor": 5
}
