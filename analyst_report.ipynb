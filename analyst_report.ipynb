{
 "cells": [
  {
   "cell_type": "code",
   "execution_count": 13,
   "id": "d41beecc",
   "metadata": {},
   "outputs": [
    {
     "data": {
      "text/plain": [
       "''"
      ]
     },
     "execution_count": 13,
     "metadata": {},
     "output_type": "execute_result"
    }
   ],
   "source": [
    "from fpdf import FPDF \n",
    "\n",
    "# Create a PDF object\n",
    "pdf = FPDF(orientation='P', unit='mm', format='A4')\n",
    "\n",
    "# Add a page\n",
    "pdf.add_page()\n",
    "\n",
    "# Set font\n",
    "pdf.set_font('Arial', 'B', 16)\n",
    "\n",
    "# Centered title\n",
    "import yfinance as yf\n",
    "\n",
    "TICKER = \"VAU.AX\" # Replace with your stock ticker\n",
    "company_name = 'Vault Minerals'\n",
    "\n",
    "#stock = yf.Ticker(TICKER)\n",
    "pdf.cell(0, 10, txt=f'{company_name} ({TICKER}) Equity Research Report', ln=True, align='C')\n",
    "\n",
    "#Adding Image\n",
    "from fpdf import FPDF\n",
    "import os\n",
    "\n",
    "# Add an image (replace 'example.jpg' with an actual image file path)\n",
    "sample_image = 'VM_Image.jpg'\n",
    "if os.path.exists(sample_image):\n",
    "    pdf.image(sample_image, x=25, y=40, w=150)\n",
    "    pdf.ln(100)  # Leave space after the image\n",
    "else:\n",
    "    pdf.cell(0, 10, 'Image example (image file not found)', 0, 1)\n",
    "    pdf.cell(0, 10, 'Replace \"example.jpg\" with your image path', 0, 1)\n",
    "\n",
    "# Save the PDF\n",
    "\n",
    "#Write our names\n",
    "#pdf = FPDF()\n",
    "#pdf.add_page()\n",
    "pdf.set_font('Arial', 'B', 12)\n",
    "\n",
    "# 1. Using Cell - creates a rectangular area for text with optional borders\n",
    "pdf.cell(0, 10, 'Presented by: Lawrence Chen, Harris Zhong, Baran Esmaeili, George Scanlan', 0, 1,)\n",
    "\n",
    "pdf.set_font('Arial', '', 10)\n",
    "\n",
    "# 2. Using MultiCell - allows text to wrap and span multiple lines\n",
    "pdf.write(4, 'This equity research report will cover Vault Minerals and a recommendation will be provided based on a valuation model. ')\n",
    "\n",
    "\n",
    "\n",
    "pdf.output('equity_research_VAU.pdf')\n",
    "\n"
   ]
  }
 ],
 "metadata": {
  "kernelspec": {
   "display_name": "Python 3.13.3",
   "language": "python",
   "name": "py313"
  },
  "language_info": {
   "codemirror_mode": {
    "name": "ipython",
    "version": 3
   },
   "file_extension": ".py",
   "mimetype": "text/x-python",
   "name": "python",
   "nbconvert_exporter": "python",
   "pygments_lexer": "ipython3",
   "version": "3.13.3"
  }
 },
 "nbformat": 4,
 "nbformat_minor": 5
}
