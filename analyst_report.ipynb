{
 "cells": [
  {
   "cell_type": "code",
   "execution_count": 9,
   "id": "d41beecc",
   "metadata": {},
   "outputs": [
    {
     "name": "stderr",
     "output_type": "stream",
     "text": [
      "C:\\Users\\lawre\\AppData\\Local\\Temp\\ipykernel_17696\\1532552300.py:10: DeprecationWarning: Substituting font arial by core font helvetica - This is deprecated since v2.7.8, and will soon be removed\n",
      "  pdf.set_font('Arial', 'B', 16)\n",
      "C:\\Users\\lawre\\AppData\\Local\\Temp\\ipykernel_17696\\1532552300.py:13: DeprecationWarning: The parameter \"txt\" has been renamed to \"text\" in 2.7.6\n",
      "  pdf.cell(w=0, h=10, txt='Vault Minerals Equity Research Report', ln=True, align='C')\n",
      "C:\\Users\\lawre\\AppData\\Local\\Temp\\ipykernel_17696\\1532552300.py:13: DeprecationWarning: The parameter \"ln\" is deprecated since v2.5.2. Instead of ln=True use new_x=XPos.LMARGIN, new_y=YPos.NEXT.\n",
      "  pdf.cell(w=0, h=10, txt='Vault Minerals Equity Research Report', ln=True, align='C')\n"
     ]
    }
   ],
   "source": [
    "from fpdf import FPDF \n",
    "\n",
    "# Create a PDF object\n",
    "pdf = FPDF(orientation='P', unit='mm', format='A4')\n",
    "\n",
    "# Add a page\n",
    "pdf.add_page()\n",
    "\n",
    "# Set font\n",
    "pdf.set_font('Arial', 'B', 16)\n",
    "\n",
    "# Centered title\n",
    "pdf.cell(w=0, h=10, txt='Vault Minerals Equity Research Report', ln=True, align='C')\n",
    "\n",
    "# Save the PDF\n",
    "pdf.output('equity_research_VAU.pdf')\n"
   ]
  }
 ],
 "metadata": {
  "kernelspec": {
   "display_name": "Python 3",
   "language": "python",
   "name": "python3"
  },
  "language_info": {
   "codemirror_mode": {
    "name": "ipython",
    "version": 3
   },
   "file_extension": ".py",
   "mimetype": "text/x-python",
   "name": "python",
   "nbconvert_exporter": "python",
   "pygments_lexer": "ipython3",
   "version": "3.13.3"
  }
 },
 "nbformat": 4,
 "nbformat_minor": 5
}
