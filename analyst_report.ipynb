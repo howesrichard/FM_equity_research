{
 "cells": [
  {
   "cell_type": "code",
   "execution_count": 68,
   "id": "d41beecc",
   "metadata": {},
   "outputs": [
    {
     "name": "stderr",
     "output_type": "stream",
     "text": [
      "C:\\Users\\lawre\\AppData\\Local\\Temp\\ipykernel_17696\\3168395103.py:10: DeprecationWarning: Substituting font arial by core font helvetica - This is deprecated since v2.7.8, and will soon be removed\n",
      "  pdf.set_font('Arial', 'B', 16)\n",
      "C:\\Users\\lawre\\AppData\\Local\\Temp\\ipykernel_17696\\3168395103.py:13: DeprecationWarning: The parameter \"txt\" has been renamed to \"text\" in 2.7.6\n",
      "  pdf.cell(0, 10, txt='Vault Minerals Equity Research Report', ln=True, align='C')\n",
      "C:\\Users\\lawre\\AppData\\Local\\Temp\\ipykernel_17696\\3168395103.py:13: DeprecationWarning: The parameter \"ln\" is deprecated since v2.5.2. Instead of ln=True use new_x=XPos.LMARGIN, new_y=YPos.NEXT.\n",
      "  pdf.cell(0, 10, txt='Vault Minerals Equity Research Report', ln=True, align='C')\n",
      "C:\\Users\\lawre\\AppData\\Local\\Temp\\ipykernel_17696\\3168395103.py:21: DeprecationWarning: Substituting font arial by core font helvetica - This is deprecated since v2.7.8, and will soon be removed\n",
      "  pdf.set_font('Arial', 'B', 12)\n",
      "C:\\Users\\lawre\\AppData\\Local\\Temp\\ipykernel_17696\\3168395103.py:24: DeprecationWarning: The parameter \"ln\" is deprecated since v2.5.2. Instead of ln=1 use new_x=XPos.LMARGIN, new_y=YPos.NEXT.\n",
      "  pdf.cell(0, 10, 'Presented by: Lawrence Chen, Harris Zhong, Baran Esmaeili, George Scanlan', 0, 1,)\n"
     ]
    }
   ],
   "source": [
    "from fpdf import FPDF \n",
    "\n",
    "# Create a PDF object\n",
    "pdf = FPDF(orientation='P', unit='mm', format='A4')\n",
    "\n",
    "# Add a page\n",
    "pdf.add_page()\n",
    "\n",
    "# Set font\n",
    "pdf.set_font('Arial', 'B', 16)\n",
    "\n",
    "# Centered title\n",
    "pdf.cell(0, 10, txt='Vault Minerals Equity Research Report', ln=True, align='C')\n",
    "\n",
    "# Save the PDF\n",
    "#pdf.output('equity_research_VAU.pdf')\n",
    "\n",
    "#Write our names\n",
    "#pdf = FPDF()\n",
    "#pdf.add_page()\n",
    "pdf.set_font('Arial', 'B', 12)\n",
    "\n",
    "# 1. Using Cell - creates a rectangular area for text with optional borders\n",
    "pdf.cell(0, 10, 'Presented by: Lawrence Chen, Harris Zhong, Baran Esmaeili, George Scanlan', 0, 1,)\n",
    "\n",
    "# 2. Using MultiCell - allows text to wrap and span multiple lines\n",
    "pdf.multi_cell(0, 10, 'This text will wrap automatically when it reaches the end of the line. ' * 5)\n",
    "\n",
    "# 3. Using Write - continues on the same line without creating a cell\n",
    "pdf.write(10, 'This text is written with the write method. ')\n",
    "pdf.write(10, 'This continues on the same line.')\n",
    "\n",
    "# 4. Using Text - places text at specific coordinates\n",
    "pdf.text(10, 120, 'This text is placed at coordinates (10, 120)')\n",
    "\n",
    "pdf.output('equity_research_VAU.pdf')\n",
    "\n"
   ]
  }
 ],
 "metadata": {
  "kernelspec": {
   "display_name": "Python 3",
   "language": "python",
   "name": "python3"
  },
  "language_info": {
   "codemirror_mode": {
    "name": "ipython",
    "version": 3
   },
   "file_extension": ".py",
   "mimetype": "text/x-python",
   "name": "python",
   "nbconvert_exporter": "python",
   "pygments_lexer": "ipython3",
   "version": "3.13.3"
  }
 },
 "nbformat": 4,
 "nbformat_minor": 5
}
