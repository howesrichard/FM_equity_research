{
 "cells": [
  {
   "cell_type": "code",
   "execution_count": 255,
   "id": "4a3cbc8c",
   "metadata": {},
   "outputs": [],
   "source": [
    "import os\n",
    "import sys\n",
    "import subprocess\n",
    "\n",
    "# Path to excel file\n",
    "RWC_Ltd_DCF = r\"C:\\Users\\tomsc\\OneDrive\\Desktop\\2025\\FINM3422\\Coding Project 1\\RWC Ltd DCF.xlsx\"\n",
    "\n",
    "# Open the Excel file using the default application\n",
    "if sys.platform.startswith('win'):\n",
    "    os.startfile(RWC_Ltd_DCF)\n",
    "elif sys.platform.startswith('darwin'):\n",
    "    subprocess.call([\"open\", RWC_Ltd_DCF])\n",
    "else:\n",
    "    subprocess.call([\"xdg-open\", RWC_Ltd_DCF])"
   ]
  },
  {
   "cell_type": "code",
   "execution_count": 256,
   "id": "9563f526",
   "metadata": {},
   "outputs": [],
   "source": [
    "import pandas as pd\n",
    "\n",
    "# Define path to RWC Ltd DCF file \n",
    "RWC_Ltd_DCF = r\"C:\\Users\\tomsc\\OneDrive\\Desktop\\2025\\FINM3422\\Coding Project 1\\RWC Ltd DCF.xlsx\"\n"
   ]
  },
  {
   "cell_type": "code",
   "execution_count": 259,
   "id": "c00440b2",
   "metadata": {},
   "outputs": [
    {
     "name": "stdout",
     "output_type": "stream",
     "text": [
      "                            Unnamed: 3 Unnamed: 4 Unnamed: 5 Unnamed: 6  \\\n",
      "0                                  NaN        NaN        NaN        NaN   \n",
      "1                                  NaN        NaN        NaN        NaN   \n",
      "2                                  NaN        NaN        NaN        NaN   \n",
      "3                                  NaN        NaN        NaN        NaN   \n",
      "4                                  NaN        NaN        NaN        NaN   \n",
      "..                                 ...        ...        ...        ...   \n",
      "85                                 NaN        NaN        NaN        NaN   \n",
      "86                     Price Per Share        NaN        NaN        NaN   \n",
      "87                  Shares Outstanding        770        NaN        NaN   \n",
      "88                         Share Price   3.281115        NaN        NaN   \n",
      "89  Premium (discount) to Market Price  -0.171436        NaN        NaN   \n",
      "\n",
      "   Unnamed: 7 Unnamed: 8 Unnamed: 9  \n",
      "0         NaN        NaN        NaN  \n",
      "1         NaN        NaN        NaN  \n",
      "2         NaN        NaN        NaN  \n",
      "3         NaN        NaN        NaN  \n",
      "4         NaN        NaN        NaN  \n",
      "..        ...        ...        ...  \n",
      "85        NaN        NaN        NaN  \n",
      "86        NaN        NaN        NaN  \n",
      "87        NaN        NaN        NaN  \n",
      "88        NaN        NaN        NaN  \n",
      "89        NaN        NaN        NaN  \n",
      "\n",
      "[90 rows x 7 columns]\n"
     ]
    }
   ],
   "source": [
    "# Read the DCF file into the dataframe\n",
    "df = pd.read_excel(RWC_Ltd_DCF, sheet_name='DCF Valuation', usecols=\"D:J\")\n",
    "print(df)"
   ]
  },
  {
   "cell_type": "code",
   "execution_count": 261,
   "id": "801fc8f4",
   "metadata": {},
   "outputs": [
    {
     "name": "stdout",
     "output_type": "stream",
     "text": [
      "DataFrame shape: (90, 7)\n",
      "DataFrame columns: Index(['Unnamed: 3', 'Unnamed: 4', 'Unnamed: 5', 'Unnamed: 6', 'Unnamed: 7',\n",
      "       'Unnamed: 8', 'Unnamed: 9'],\n",
      "      dtype='object')\n",
      "['Unnamed: 3', 'Unnamed: 4', 'Unnamed: 5', 'Unnamed: 6', 'Unnamed: 7', 'Unnamed: 8', 'Unnamed: 9']\n"
     ]
    }
   ],
   "source": [
    "# Print the DataFrame's shape and columns to verify it was imported correctly \n",
    "print(\"DataFrame shape:\", df.shape)\n",
    "print(\"DataFrame columns:\", df.columns)\n",
    "print(df.columns.tolist())"
   ]
  },
  {
   "cell_type": "code",
   "execution_count": 262,
   "id": "dee1d1f1",
   "metadata": {},
   "outputs": [
    {
     "name": "stdout",
     "output_type": "stream",
     "text": [
      "Key inputs for DCF valuation:\n",
      "                 Unnamed: 3           Unnamed: 4\n",
      "6               Last Traded                 3.96\n",
      "7   Shares Outstanding ($m)                  770\n",
      "8      Terminal Growth Rate                 0.03\n",
      "9                      WACC             0.087219\n",
      "10  Exchange Rate (USD/AUD)                1.618\n",
      "11               Market Cap             3063.216\n",
      "12       Book Value of Debt               812.42\n",
      "13       Effective tax rate               0.2963\n",
      "14           Valuation Date  2025-04-30 00:00:00\n"
     ]
    }
   ],
   "source": [
    "# Print the key inputs for the DCF valuation (excluding analyst projections)\n",
    "print(\"Key inputs for DCF valuation:\")\n",
    "print(df.iloc[6:15, 0:2]) \n"
   ]
  },
  {
   "cell_type": "code",
   "execution_count": 263,
   "id": "62d345d2",
   "metadata": {},
   "outputs": [
    {
     "name": "stdout",
     "output_type": "stream",
     "text": [
      "Row 47, Columns F-J:\n",
      "   Unnamed: 5  Unnamed: 6  Unnamed: 7  Unnamed: 8  Unnamed: 9\n",
      "45  71.945863  143.039894  145.144676  159.630738  200.749831\n",
      "Renaming columns F-J to '2025', '2026', '2027', '2028', '2029'\n",
      "['Unnamed: 3', 'Unnamed: 4', '2025', '2026', '2027', '2028', '2029']\n",
      "         2025        2026        2027        2028        2029\n",
      "45  71.945863  143.039894  145.144676  159.630738  200.749831\n"
     ]
    }
   ],
   "source": [
    "# Print row 47 (Python index 46) and columns F-J (Python index 3-6) to show FCFF\n",
    "print(\"Row 47, Columns F-J:\")\n",
    "print(df.iloc[45, 2:10].to_frame().T)\n",
    "\n",
    "# The original columns are unnamed and are represented by their index numbers\n",
    "# So, we rename the unnamed columns 5-9 to '2025', '2026', '2027', '2028', '2029'\n",
    "print(\"Renaming columns F-J to '2025', '2026', '2027', '2028', '2029'\")\n",
    "df.rename(columns={df.columns[2]: '2025', df.columns[3]: '2026', df.columns[4]: '2027', df.columns[5]: '2028', df.columns[6]: '2029'}, inplace=True)\n",
    "print(df.columns.tolist())\n",
    "\n",
    "# Print column name change to verify it was successful\n",
    "print(df.iloc[45, 2:10].to_frame().T)"
   ]
  },
  {
   "cell_type": "code",
   "execution_count": 264,
   "id": "3ca5a499",
   "metadata": {},
   "outputs": [
    {
     "name": "stdout",
     "output_type": "stream",
     "text": [
      "Row 49, Columns F-J:\n",
      "         2025       2026        2027        2028        2029\n",
      "47  70.950101  129.74407  121.091761  122.493531  141.688619\n"
     ]
    }
   ],
   "source": [
    "# Print row 49 (python index 48) and columns F-J (Python index 3-6) to show Discounted FCFF\n",
    "print(\"Row 49, Columns F-J:\")\n",
    "print(df.iloc[47, 2:10].to_frame().T)"
   ]
  },
  {
   "cell_type": "code",
   "execution_count": 265,
   "id": "52a3fcfd",
   "metadata": {},
   "outputs": [
    {
     "name": "stdout",
     "output_type": "stream",
     "text": [
      "    Unnamed: 4\n",
      "56  585.968081\n",
      "    Unnamed: 4\n",
      "55  2378.87328\n",
      "     Unnamed: 4\n",
      "57  2964.841361\n",
      "     Unnamed: 4\n",
      "63  2492.741361\n",
      "   Unnamed: 4\n",
      "67   3.237326\n",
      "68  -0.182493\n"
     ]
    }
   ],
   "source": [
    "# Terminal Growth DCF Method\n",
    "\n",
    "# Print row 58 (python index 57) and column E (Python index 4) to show PV of Stage 1 FCFF under Terminal Growth DCF Method\n",
    "value_df = df.iloc[56:57, 1:2]\n",
    "print(value_df)\n",
    "\n",
    "# Print row 57 (python index 56) and column E (python index 4) to show Terminal Value PV under Terminal Growth DCF Method\n",
    "value_df = df.iloc[55:56, 1:2]\n",
    "print(value_df)\n",
    "\n",
    "# Print row 59 (python index 58) and column E (python index 4) to show Enterprise Value under Terminal Growth DCF Method\n",
    "value_df = df.iloc[57:58, 1:2]\n",
    "print(value_df)\n",
    "\n",
    "# Print row 65 (python index 64) and column E (python index 4) to show Equity Value under Terminal Growth DCF Method\n",
    "value_df = df.iloc[63:64, 1:2]\n",
    "print(value_df) \n",
    "\n",
    "# Print rows 69-70 (python index 67-69) and column E (Python index 4) to show Implied Share Price and Premium/(discount) to market price under Terminal Growth DCF Method\n",
    "value_df = df.iloc[67:69, 1:2]\n",
    "print(value_df)\n"
   ]
  },
  {
   "cell_type": "code",
   "execution_count": 266,
   "id": "98dd42ec",
   "metadata": {},
   "outputs": [
    {
     "name": "stdout",
     "output_type": "stream",
     "text": [
      "    Unnamed: 4\n",
      "56  585.968081\n",
      "     Unnamed: 4\n",
      "76  2412.590693\n",
      "     Unnamed: 4\n",
      "78  2998.558775\n",
      "     Unnamed: 4\n",
      "84  2526.458775\n",
      "   Unnamed: 4\n",
      "88   3.281115\n",
      "89  -0.171436\n"
     ]
    }
   ],
   "source": [
    "# Exit Multiple Method \n",
    "\n",
    "# Print row 58 (python index 57) and column E (Python index 4) to show PV of Stage 1 FCFF under Exit Multiple Method\n",
    "value_df = df.iloc[56:57, 1:2]\n",
    "print(value_df)\n",
    "\n",
    "# Print row 78 (python index 76) and column E (python index 4) to show Terminal Value PV under Exit Multiple DCF Method\n",
    "value_df = df.iloc[76:77, 1:2]\n",
    "print(value_df)\n",
    "\n",
    "# Print row 80 (python index 78) and column E (python index 4) to show Enterprise Value under Exit Multiple DCF Method\n",
    "value_df = df.iloc[78:79, 1:2]\n",
    "print(value_df)\n",
    "\n",
    "# Print row 86 (python index 84) and column E (python index 4) to show Equity Value under Exit Multiple DCF Method\n",
    "value_df = df.iloc[84:85, 1:2]\n",
    "print(value_df)\n",
    "\n",
    "# Print rows 90-91 (python index 89-90) and column E (Python index 4) to show Implied Share Price and Premium/(discount) to market price under Exit Multiple DCF Method\n",
    "value_df = df.iloc[88:90, 1:2]\n",
    "print(value_df)\n"
   ]
  },
  {
   "cell_type": "code",
   "execution_count": 267,
   "id": "4af0ee1f",
   "metadata": {},
   "outputs": [
    {
     "name": "stdout",
     "output_type": "stream",
     "text": [
      "\n",
      "Terminal Growth DCF Method:\n",
      "PV of Stage 1 FCFF: 585.97\n",
      "Terminal Value PV: 2378.87\n",
      "Enterprise Value: 2964.84\n",
      "Equity Value: 2492.74\n",
      "Implied Share Price: 3.24\n",
      "Premium/(discount) to market price: -0.18\n",
      "\n",
      "Exit Multiple DCF Method:\n",
      "PV of Stage 1 FCFF: 585.97\n",
      "Terminal Value PV: 2412.59\n",
      "Enterprise Value: 2998.56\n",
      "Equity Value: 2526.46\n",
      "Implied Share Price: 3.28\n",
      "Premium/(discount) to market price: -0.17\n"
     ]
    }
   ],
   "source": [
    "# Store the values in a dictionary for easy access in a readable format \n",
    "values = {\n",
    "    \"Terminal Growth DCF Method\": {\n",
    "        \"PV of Stage 1 FCFF\": df.iloc[56, 1],\n",
    "        \"Terminal Value PV\": df.iloc[55, 1],\n",
    "        \"Enterprise Value\": df.iloc[57, 1],\n",
    "        \"Equity Value\": df.iloc[63, 1],\n",
    "        \"Implied Share Price\": df.iloc[67, 1],\n",
    "        \"Premium/(discount) to market price\": df.iloc[68, 1]\n",
    "    },\n",
    "    \"Exit Multiple DCF Method\": {\n",
    "        \"PV of Stage 1 FCFF\": df.iloc[56, 1],\n",
    "        \"Terminal Value PV\": df.iloc[76, 1],\n",
    "        \"Enterprise Value\": df.iloc[78, 1],\n",
    "        \"Equity Value\": df.iloc[84, 1],\n",
    "        \"Implied Share Price\": df.iloc[88, 1],\n",
    "        \"Premium/(discount) to market price\": df.iloc[89, 1]\n",
    "    }\n",
    "}\n",
    "# Print the values in a readable format to 2 decimal places\n",
    "for method, metrics in values.items():\n",
    "    print(f\"\\n{method}:\")\n",
    "    for metric, value in metrics.items():\n",
    "        print(f\"{metric}: {value:.2f}\")"
   ]
  },
  {
   "cell_type": "code",
   "execution_count": 268,
   "id": "b051d5c9",
   "metadata": {},
   "outputs": [
    {
     "name": "stdout",
     "output_type": "stream",
     "text": [
      "RWC Ltd is overvalued based on the Terminal Growth DCF Method.\n",
      "RWC Ltd is overvalued based on the Exit Multiple DCF Method.\n",
      "\n",
      "Implied Share Price (Terminal Growth DCF Method): 3.24\n",
      "Implied Share Price (Exit Multiple DCF Method): 3.28\n",
      "Market Price: 3.96\n",
      "\n",
      "Difference (Terminal Growth DCF Method): -0.72\n",
      "Difference (Exit Multiple DCF Method): -0.68\n"
     ]
    }
   ],
   "source": [
    "# Given the Implied Share Prices, we can determine whether RWC Ltd is undervalued or overvalued \n",
    "# If the Implied Share Price is greater than the market price, RWC Ltd is undervalued\n",
    "# If the Implied Share Price is less than the market price, RWC Ltd is overvalued\n",
    "# If the Implied Share Price is equal to the market price, RWC Ltd is fairly valued\n",
    "# The market price of RWC Ltd is $3.96\n",
    "market_price = 3.96\n",
    "# Check the Implied Share Price for Terminal Growth DCF Method\n",
    "implied_share_price_terminal_growth = values[\"Terminal Growth DCF Method\"][\"Implied Share Price\"]\n",
    "if implied_share_price_terminal_growth > market_price:\n",
    "    print(\"RWC Ltd is undervalued based on the Terminal Growth DCF Method.\")\n",
    "elif implied_share_price_terminal_growth < market_price:\n",
    "    print(\"RWC Ltd is overvalued based on the Terminal Growth DCF Method.\")\n",
    "else:\n",
    "    print(\"RWC Ltd is fairly valued based on the Terminal Growth DCF Method.\")\n",
    "# Check the Implied Share Price for Exit Multiple DCF Method\n",
    "implied_share_price_exit_multiple = values[\"Exit Multiple DCF Method\"][\"Implied Share Price\"]\n",
    "if implied_share_price_exit_multiple > market_price:\n",
    "    print(\"RWC Ltd is undervalued based on the Exit Multiple DCF Method.\")\n",
    "elif implied_share_price_exit_multiple < market_price:\n",
    "    print(\"RWC Ltd is overvalued based on the Exit Multiple DCF Method.\")\n",
    "elif implied_share_price_exit_multiple == market_price:\n",
    "    print(\"RWC Ltd is fairly valued based on the Exit Multiple DCF Method.\")\n",
    "# Print the Implied Share Prices for both methods\n",
    "print(f\"\\nImplied Share Price (Terminal Growth DCF Method): {implied_share_price_terminal_growth:.2f}\")\n",
    "print(f\"Implied Share Price (Exit Multiple DCF Method): {implied_share_price_exit_multiple:.2f}\")\n",
    "# Print the market price for comparison\n",
    "print(f\"Market Price: {market_price:.2f}\")\n",
    "# Print the difference between the Implied Share Prices and the market price\n",
    "print(f\"\\nDifference (Terminal Growth DCF Method): {implied_share_price_terminal_growth - market_price:.2f}\")\n",
    "print(f\"Difference (Exit Multiple DCF Method): {implied_share_price_exit_multiple - market_price:.2f}\")"
   ]
  }
 ],
 "metadata": {
  "kernelspec": {
   "display_name": "Python 3",
   "language": "python",
   "name": "python3"
  },
  "language_info": {
   "codemirror_mode": {
    "name": "ipython",
    "version": 3
   },
   "file_extension": ".py",
   "mimetype": "text/x-python",
   "name": "python",
   "nbconvert_exporter": "python",
   "pygments_lexer": "ipython3",
   "version": "3.13.2"
  }
 },
 "nbformat": 4,
 "nbformat_minor": 5
}
