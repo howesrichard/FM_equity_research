{
 "cells": [
  {
   "cell_type": "markdown",
   "metadata": {},
   "source": [
    "# FPDF Mechanics: The Progressive Building Process\n",
    "\n",
    "This notebook explains how FPDF progressively builds PDF documents in Python using a cursor-based approach."
   ]
  },
  {
   "cell_type": "code",
   "execution_count": 2,
   "metadata": {},
   "outputs": [
    {
     "name": "stderr",
     "output_type": "stream",
     "text": [
      "c:\\Users\\lawre\\AppData\\Local\\Programs\\Python\\Python313\\Lib\\site-packages\\fpdf\\__init__.py:40: UserWarning: You have both PyFPDF & fpdf2 installed. Both packages cannot be installed at the same time as they share the same module namespace. To only keep fpdf2, run: pip uninstall --yes pypdf && pip install --upgrade fpdf2\n",
      "  warnings.warn(\n"
     ]
    }
   ],
   "source": [
    "# Import the FPDF library\n",
    "from fpdf import FPDF"
   ]
  },
  {
   "cell_type": "markdown",
   "metadata": {},
   "source": [
    "## 1. The Sequential Building Process\n",
    "\n",
    "FPDF builds PDFs sequentially, similar to a typewriter. The library maintains an internal cursor position (X,Y coordinates) that moves as content is added.\n",
    "\n",
    "- The origin (0,0) is at the top-left corner\n",
    "- X increases from left to right\n",
    "- Y increases from top to bottom"
   ]
  },
  {
   "cell_type": "code",
   "execution_count": 28,
   "metadata": {},
   "outputs": [
    {
     "name": "stdout",
     "output_type": "stream",
     "text": [
      "Initial position - X: 9.999999999999998, Y: 9.999999999999998\n",
      "After first cell - X: 50.0, Y: 9.999999999999998\n",
      "After second cell - X: 9.999999999999998, Y: 20.0\n"
     ]
    },
    {
     "name": "stderr",
     "output_type": "stream",
     "text": [
      "C:\\Users\\lawre\\AppData\\Local\\Temp\\ipykernel_23528\\154933786.py:4: DeprecationWarning: Substituting font arial by core font helvetica - This is deprecated since v2.7.8, and will soon be removed\n",
      "  pdf.set_font('Arial', '', 12)\n",
      "C:\\Users\\lawre\\AppData\\Local\\Temp\\ipykernel_23528\\154933786.py:14: DeprecationWarning: The parameter \"ln\" is deprecated since v2.5.2. Instead of ln=1 use new_x=XPos.LMARGIN, new_y=YPos.NEXT.\n",
      "  pdf.cell(60, 10, 'Second cell', 0, 1,)\n"
     ]
    }
   ],
   "source": [
    "# Demonstrate cursor movement\n",
    "pdf = FPDF()\n",
    "pdf.add_page()\n",
    "pdf.set_font('Arial', '', 12)\n",
    "\n",
    "# Print initial cursor position\n",
    "print(f\"Initial position - X: {pdf.get_x()}, Y: {pdf.get_y()}\")\n",
    "\n",
    "# Add content and track position changes\n",
    "pdf.cell(40, 10, 'First cell')\n",
    "print(f\"After first cell - X: {pdf.get_x()}, Y: {pdf.get_y()}\")\n",
    "\n",
    "# Add cell that moves to next line (ln=1)\n",
    "pdf.cell(60, 10, 'Second cell', 0, 1,)\n",
    "print(f\"After second cell - X: {pdf.get_x()}, Y: {pdf.get_y()}\")\n",
    "\n",
    "\n",
    "pdf.output('cursor_movement.pdf')"
   ]
  },
  {
   "cell_type": "markdown",
   "metadata": {},
   "source": [
    "### Arguments to the `pdf.cell()` Method\n",
    "\n",
    "The `pdf.cell()` method in FPDF, as demonstrated in the code block above, is used to create a rectangular area (cell) in the PDF document, which can contain text, borders, and alignment. Below are the arguments it accepts:\n",
    "\n",
    "1. **`w` (float)**:  \n",
    "   The width of the cell in user units.  \n",
    "   - If set to `0`, the cell will extend to the right margin of the page.\n",
    "\n",
    "2. **`h` (float)**:  \n",
    "   The height of the cell in user units.\n",
    "\n",
    "3. **`txt` (string)**:  \n",
    "   The text to be displayed inside the cell.  \n",
    "   - If the text is longer than the width of the cell, it will not wrap (use `multi_cell` for wrapping).\n",
    "\n",
    "4. **`border` (int or string)**:  \n",
    "   Specifies whether to draw a border around the cell.  \n",
    "   - `0`: No border (default).  \n",
    "   - `1`: Draw a border around the cell.  \n",
    "   - `'L'`, `'T'`, `'R'`, `'B'`: Draw a border on the left, top, right, or bottom side, respectively.\n",
    "\n",
    "5. **`ln` (int)**:  \n",
    "   Indicates whether to move the cursor to the next line after the cell is printed.  \n",
    "   - `0`: Keep the cursor on the same line.  \n",
    "   - `1`: Move the cursor to the beginning of the next line.  \n",
    "   - `2`: Move the cursor below the cell.\n",
    "\n",
    "6. **`align` (string)**:  \n",
    "   Specifies the alignment of the text inside the cell.  \n",
    "   - `'L'`: Left-aligned (default).  \n",
    "   - `'C'`: Center-aligned.  \n",
    "   - `'R'`: Right-aligned.\n",
    "\n",
    "7. **`fill` (bool)**:  \n",
    "   Specifies whether to fill the background of the cell with a color.  \n",
    "   - `False`: No fill (default).  \n",
    "   - `True`: Fill the background with the current fill color.\n",
    "\n",
    "### Example Usage\n",
    "```python\n",
    "pdf.cell(50, 10, 'Hello World', 1, 1, 'C', True)"
   ]
  },
  {
   "cell_type": "markdown",
   "metadata": {},
   "source": [
    "## 2. Writing Methods in FPDF\n",
    "\n",
    "FPDF provides several methods to add content. Each moves the cursor differently:"
   ]
  },
  {
   "cell_type": "markdown",
   "metadata": {},
   "source": [
    "### 2.1 The `cell()` Method\n",
    "\n",
    "Creates a rectangular cell with text. The `ln` parameter controls cursor movement:\n",
    "- `ln=0`: Cursor moves right (default)\n",
    "- `ln=1`: Cursor moves to beginning of next line\n",
    "- `ln=2`: Cursor moves below the cell"
   ]
  },
  {
   "cell_type": "code",
   "execution_count": null,
   "metadata": {},
   "outputs": [],
   "source": [
    "pdf = FPDF()\n",
    "pdf.add_page()\n",
    "pdf.set_font('Arial', '', 12)\n",
    "\n",
    "# With ln=0: Cursor moves right\n",
    "pdf.cell(40, 10, 'Cell 1', 1, 0)\n",
    "pdf.cell(40, 10, 'Cell 2', 1, 0)\n",
    "\n",
    "# With ln=1: Cursor moves to beginning of next line\n",
    "pdf.ln()\n",
    "pdf.cell(40, 10, 'Cell 3', 1, 1)  # Note ln=1\n",
    "pdf.cell(40, 10, 'Cell 4', 1, 0)  # This starts on a new line\n",
    "\n",
    "pdf.output('cell_cursor_movement.pdf')"
   ]
  },
  {
   "cell_type": "markdown",
   "metadata": {},
   "source": [
    "### 2.2 The `multi_cell()` Method\n",
    "\n",
    "Creates text that automatically wraps and can span multiple lines. Always moves to the next line after execution."
   ]
  },
  {
   "cell_type": "code",
   "execution_count": null,
   "metadata": {},
   "outputs": [],
   "source": [
    "pdf = FPDF()\n",
    "pdf.add_page()\n",
    "pdf.set_font('Arial', '', 12)\n",
    "\n",
    "# Add a multi_cell with text that will wrap\n",
    "pdf.multi_cell(80, 10, 'This text will automatically wrap when it reaches the end of the cell width. ' * 3, 1)\n",
    "\n",
    "# After multi_cell, X position is back at the left margin\n",
    "pdf.multi_cell(80, 10, 'Another paragraph with auto-wrapping text.', 1)\n",
    "\n",
    "pdf.output('multi_cell_example.pdf')"
   ]
  },
  {
   "cell_type": "markdown",
   "metadata": {},
   "source": [
    "The `pdf.multi_cell()` method in FPDF is used to create a rectangular area (cell) for text that automatically wraps to the next line when it exceeds the specified width. This is ideal for displaying paragraphs or blocks of text.\n",
    "\n",
    "#### Arguments:\n",
    "1. **`w` (float)**:  \n",
    "   The width of the cell in user units.  \n",
    "   - If set to `0`, the cell will extend to the right margin of the page.\n",
    "\n",
    "2. **`h` (float)**:  \n",
    "   The height of each line of text in the cell, in user units.\n",
    "\n",
    "3. **`txt` (string)**:  \n",
    "   The text to be displayed inside the cell.  \n",
    "   - If the text is longer than the width of the cell, it will wrap to the next line.\n",
    "\n",
    "4. **`border` (int or string)**:  \n",
    "   Specifies whether to draw a border around the cell.  \n",
    "   - `0`: No border (default).  \n",
    "   - `1`: Draw a border around the cell.  \n",
    "   - `'L'`, `'T'`, `'R'`, `'B'`: Draw a border on the left, top, right, or bottom side, respectively.\n",
    "\n",
    "5. **`align` (string)**:  \n",
    "   Specifies the alignment of the text inside the cell.  \n",
    "   - `'L'`: Left-aligned (default).  \n",
    "   - `'C'`: Center-aligned.  \n",
    "   - `'R'`: Right-aligned.\n",
    "\n",
    "6. **`fill` (bool)**:  \n",
    "   Specifies whether to fill the background of the cell with a color.  \n",
    "   - `False`: No fill (default).  \n",
    "   - `True`: Fill the background with the current fill color.\n",
    "\n",
    "#### Key Features:\n",
    "- **Automatic Wrapping**: Text wraps to the next line when it exceeds the specified width.\n",
    "- **Line Breaks**: After printing the text, the cursor moves to the beginning of the next line.\n",
    "\n",
    "#### Example Usage:\n",
    "```python\n",
    "pdf.multi_cell(0, 10, 'This is a long block of text that will automatically wrap to the next line when it reaches the end of the specified width. ' * 3, 1, 'L')"
   ]
  },
  {
   "cell_type": "markdown",
   "metadata": {},
   "source": [
    "### 2.3 The `write()` Method\n",
    "\n",
    "Used for flowing text that continues on the same line. Allows for inline formatting changes."
   ]
  },
  {
   "cell_type": "code",
   "execution_count": null,
   "metadata": {},
   "outputs": [
    {
     "name": "stderr",
     "output_type": "stream",
     "text": [
      "C:\\Users\\lawre\\AppData\\Local\\Temp\\ipykernel_23528\\2200592580.py:3: DeprecationWarning: Substituting font arial by core font helvetica - This is deprecated since v2.7.8, and will soon be removed\n",
      "  pdf.set_font('Arial', '', 12)\n",
      "C:\\Users\\lawre\\AppData\\Local\\Temp\\ipykernel_23528\\2200592580.py:9: DeprecationWarning: Substituting font arial by core font helvetica - This is deprecated since v2.7.8, and will soon be removed\n",
      "  pdf.set_font('Arial', 'B', 12)\n"
     ]
    }
   ],
   "source": [
    "pdf = FPDF()\n",
    "pdf.add_page()\n",
    "pdf.set_font('Arial', '', 12)\n",
    "\n",
    "# Write method allows continued writing on the same line\n",
    "pdf.write(8, 'This text is written with the write method. ')\n",
    "\n",
    "# Change font within the same line\n",
    "pdf.set_font('Arial', 'B', 12)\n",
    "pdf.write(8, 'This part is bold. ')\n",
    "\n",
    "# Change color within the same line\n",
    "pdf.set_text_color(255, 0, 0)\n",
    "pdf.write(8, 'This part is red.')\n",
    "\n",
    "pdf.output('write_method_example.pdf')"
   ]
  },
  {
   "cell_type": "markdown",
   "metadata": {},
   "source": [
    "The `pdf.write()` method in FPDF is used to add text to the PDF document without creating a rectangular cell. Unlike `cell()` or `multi_cell()`, the `write()` method continues on the same line until a line break (`\\n`) is encountered or the text reaches the page margin.\n",
    "\n",
    "#### Arguments:\n",
    "1. **`h` (float)**:  \n",
    "   The height of the text in user units.  \n",
    "   - This determines the vertical spacing between lines of text.\n",
    "\n",
    "2. **`txt` (string)**:  \n",
    "   The text to be written.  \n",
    "   - If the text contains a newline character (`\\n`), the cursor moves to the next line.\n",
    "\n",
    "3. **`link` (string, optional)**:  \n",
    "   A URL or internal link associated with the text.  \n",
    "   - Clicking the text in the PDF will open the specified link.  \n",
    "   - Default is `None` (no link).\n",
    "\n",
    "#### Key Features:\n",
    "- **Inline Text**: The `write()` method does not create a cell or move the cursor to the next line unless a newline character is encountered.\n",
    "- **Links**: You can add clickable links to the text.\n",
    "\n",
    "#### Example Usage:\n",
    "```python\n",
    "pdf.write(10, 'This is a line of text. ')\n",
    "pdf.write(10, 'This continues on the same line. ')\n",
    "pdf.write(10, 'Click here to visit Google.', 'https://www.google.com')"
   ]
  },
  {
   "cell_type": "markdown",
   "metadata": {},
   "source": [
    "### 2.4 The `text()` Method\n",
    "\n",
    "Places text at absolute position. Does NOT move the cursor after printing."
   ]
  },
  {
   "cell_type": "code",
   "execution_count": null,
   "metadata": {},
   "outputs": [],
   "source": [
    "pdf = FPDF()\n",
    "pdf.add_page()\n",
    "pdf.set_font('Arial', '', 12)\n",
    "\n",
    "# Text at absolute position doesn't move the cursor\n",
    "pdf.text(10, 30, 'This text is at position (10, 30)')\n",
    "pdf.text(100, 50, 'This text is at position (100, 50)')\n",
    "\n",
    "# The cursor is still at its original position\n",
    "pdf.cell(40, 10, 'The cursor is still here', 1)\n",
    "\n",
    "pdf.output('text_method_example.pdf')"
   ]
  },
  {
   "cell_type": "markdown",
   "metadata": {},
   "source": [
    "The `pdf.text()` method in FPDF is used to place text at a specific position on the PDF page. Unlike `cell()` or `multi_cell()`, it does not create a rectangular area or handle line wrapping. It simply outputs text at the given coordinates.\n",
    "\n",
    "#### Arguments:\n",
    "1. **`x` (float)**:  \n",
    "   The X-coordinate (horizontal position) where the text will start.  \n",
    "   - Measured from the left margin of the page.\n",
    "\n",
    "2. **`y` (float)**:  \n",
    "   The Y-coordinate (vertical position) where the text will start.  \n",
    "   - Measured from the top margin of the page.\n",
    "\n",
    "3. **`txt` (string)**:  \n",
    "   The text to be displayed.  \n",
    "   - The text will not wrap or move to the next line automatically.\n",
    "\n",
    "#### Key Features:\n",
    "- **Absolute Positioning**: The `text()` method allows you to place text at an exact position on the page.\n",
    "- **No Wrapping**: The text will not wrap or adjust to fit within the page margins. If the text is too long, it will overflow.\n",
    "\n",
    "#### Example Usage:\n",
    "```python\n",
    "pdf.text(10, 20, 'This text is placed at (10, 20).')\n",
    "pdf.text(50, 50, 'Another line of text at (50, 50).')"
   ]
  },
  {
   "cell_type": "markdown",
   "metadata": {},
   "source": [
    "## 3. Managing Formatting\n",
    "\n",
    "Formatting attributes (font, color, etc.) are set **before** adding content and remain active until changed."
   ]
  },
  {
   "cell_type": "code",
   "execution_count": null,
   "metadata": {},
   "outputs": [],
   "source": [
    "pdf = FPDF()\n",
    "pdf.add_page()\n",
    "\n",
    "# Set initial font\n",
    "pdf.set_font('Arial', '', 12)  # Regular Arial, 12pt\n",
    "pdf.cell(0, 10, 'This text uses the default font', 0, 1)\n",
    "\n",
    "# Change to bold\n",
    "pdf.set_font('Arial', 'B', 12)  # Bold Arial, 12pt\n",
    "pdf.cell(0, 10, 'This text is bold', 0, 1)\n",
    "\n",
    "# Change font family and size\n",
    "pdf.set_font('Times', '', 14)  # Regular Times, 14pt\n",
    "pdf.cell(0, 10, 'This text uses Times font at 14pt', 0, 1)\n",
    "\n",
    "# Change text color to red\n",
    "pdf.set_text_color(255, 0, 0)  # RGB values\n",
    "pdf.cell(0, 10, 'This text is red', 0, 1)\n",
    "\n",
    "# Reset to black\n",
    "pdf.set_text_color(0)\n",
    "pdf.cell(0, 10, 'Back to black text', 0, 1)\n",
    "\n",
    "pdf.output('formatting_example.pdf')"
   ]
  },
  {
   "cell_type": "markdown",
   "metadata": {},
   "source": [
    "## 4. Managing Spacing with `ln()`\n",
    "\n",
    "The `ln()` method creates vertical space or moves to the next line."
   ]
  },
  {
   "cell_type": "code",
   "execution_count": null,
   "metadata": {},
   "outputs": [],
   "source": [
    "pdf = FPDF()\n",
    "pdf.add_page()\n",
    "pdf.set_font('Arial', '', 12)\n",
    "\n",
    "# Add a line of text\n",
    "pdf.cell(0, 10, 'First line of text', 0, 1)\n",
    "\n",
    "# Add another line immediately after\n",
    "pdf.cell(0, 10, 'Second line - right after the first', 0, 1)\n",
    "\n",
    "# Use ln() to add space\n",
    "pdf.ln(10)  # 10mm of vertical space\n",
    "\n",
    "# Add another line after the space\n",
    "pdf.cell(0, 10, 'Third line - after 10mm vertical space', 0, 1)\n",
    "\n",
    "# Using ln() without parameters adds the height of the current font\n",
    "pdf.ln()  # Adds current font height\n",
    "pdf.cell(0, 10, 'Fourth line - after default line break', 0, 1)\n",
    "\n",
    "pdf.output('line_spacing_example.pdf')"
   ]
  },
  {
   "cell_type": "markdown",
   "metadata": {},
   "source": [
    "## 5. Common Issues and Solutions\n",
    "\n",
    "Understanding these mechanics helps avoid common problems:\n",
    "\n",
    "1. **Content Overlapping**: Happens when the cursor doesn't move as expected. Use the `ln` parameter in `cell()` calls or `ln()` to move the cursor down.\n",
    "\n",
    "2. **Unexpected Formatting**: Occurs because formatting settings remain active until changed. Always reset fonts and colors when switching styles.\n",
    "\n",
    "3. **Unexpected Positioning**: Use `set_x()`, `set_y()`, or `set_xy()` to explicitly position the cursor when needed.\n",
    "\n",
    "4. **Text Not Wrapping**: The `cell()` method doesn't wrap text. Use `multi_cell()` for automatic text wrapping.\n",
    "\n",
    "5. **Font Changes Not Applied**: Ensure you call `set_font()` before adding text, not after.\n",
    "\n",
    "## Summary\n",
    "\n",
    "FPDF builds PDFs progressively in these key steps:\n",
    "\n",
    "1. **Set formatting** first (font, color, etc.)\n",
    "2. **Add content** using cell(), multi_cell(), write(), or text()\n",
    "3. **Manage spacing** with ln() or by controlling cursor movement\n",
    "4. Repeat these steps for each element\n",
    "\n",
    "This sequential, cursor-based approach lets you create complex, formatted documents with careful control over layout and appearance."
   ]
  }
 ],
 "metadata": {
  "kernelspec": {
   "display_name": "Python 3",
   "language": "python",
   "name": "python3"
  },
  "language_info": {
   "codemirror_mode": {
    "name": "ipython",
    "version": 3
   },
   "file_extension": ".py",
   "mimetype": "text/x-python",
   "name": "python",
   "nbconvert_exporter": "python",
   "pygments_lexer": "ipython3",
   "version": "3.13.3"
  }
 },
 "nbformat": 4,
 "nbformat_minor": 4
}
