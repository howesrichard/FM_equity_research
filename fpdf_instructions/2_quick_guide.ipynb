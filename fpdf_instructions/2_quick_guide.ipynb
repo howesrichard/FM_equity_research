{
 "cells": [
  {
   "cell_type": "markdown",
   "metadata": {},
   "source": [
    "# FPDF Python Library - Quick Guide\n",
    "\n",
    "This notebook provides a concise guide to using the FPDF library in Python for creating PDF documents.\n",
    "\n",
    "## Table of Contents\n",
    "\n",
    "1. [Installation](#1.-Installation)\n",
    "2. [Basic PDF Creation](#2.-Basic-PDF-Creation)\n",
    "3. [Adding Text](#3.-Adding-Text)\n",
    "4. [Formatting Text](#4.-Formatting-Text)\n",
    "5. [Adding Images](#5.-Adding-Images)\n",
    "6. [Creating Tables](#6.-Creating-Tables)\n",
    "7. [Page Breaks](#7.-Page-Breaks)"
   ]
  },
  {
   "cell_type": "markdown",
   "metadata": {},
   "source": [
    "## 1. Installation\n",
    "\n",
    "First, let's install the fpdf library if you haven't already."
   ]
  },
  {
   "cell_type": "code",
   "execution_count": null,
   "metadata": {},
   "outputs": [],
   "source": [
    "# Install fpdf\n",
    "!pip install fpdf2"
   ]
  },
  {
   "cell_type": "markdown",
   "metadata": {},
   "source": [
    "*Note: We are installing fpdf2, which is an enhanced version of the original fpdf library with better Python 3 support.*"
   ]
  },
  {
   "cell_type": "markdown",
   "metadata": {},
   "source": [
    "## 2. Basic PDF Creation\n",
    "\n",
    "Let's start with creating a simple PDF document."
   ]
  },
  {
   "cell_type": "code",
   "execution_count": 1,
   "metadata": {},
   "outputs": [
    {
     "data": {
      "text/plain": [
       "''"
      ]
     },
     "execution_count": 1,
     "metadata": {},
     "output_type": "execute_result"
    }
   ],
   "source": [
    "from fpdf import FPDF\n",
    "\n",
    "# Create a PDF object\n",
    "pdf = FPDF(orientation='P', unit='mm', format='A4')\n",
    "\n",
    "# Add a page\n",
    "pdf.add_page()\n",
    "\n",
    "# Set font\n",
    "pdf.set_font('Arial', 'B', 16)\n",
    "\n",
    "# Add text\n",
    "pdf.cell(40, 10, 'Hello World!')\n",
    "\n",
    "# Save the PDF\n",
    "pdf.output('hello_world.pdf')"
   ]
  },
  {
   "cell_type": "markdown",
   "metadata": {},
   "source": [
    "### Understanding the Basic Parameters:\n",
    "\n",
    "- **FPDF** initialization parameters:\n",
    "  - `orientation`: 'P' (Portrait) or 'L' (Landscape)\n",
    "  - `unit`: 'mm', 'cm', 'in', or 'pt' (points)\n",
    "  - `format`: 'A4', 'A3', 'Letter', 'Legal', or a tuple (width, height)"
   ]
  },
  {
   "cell_type": "markdown",
   "metadata": {},
   "source": [
    "## 3. Adding Text\n",
    "\n",
    "FPDF provides multiple ways to add text to your PDF:"
   ]
  },
  {
   "cell_type": "code",
   "execution_count": 7,
   "metadata": {},
   "outputs": [
    {
     "name": "stderr",
     "output_type": "stream",
     "text": [
      "C:\\Users\\lawre\\AppData\\Local\\Temp\\ipykernel_9844\\2549342694.py:5: DeprecationWarning: Substituting font arial by core font helvetica - This is deprecated since v2.7.8, and will soon be removed\n",
      "  pdf.set_font('Arial', '', 12)\n",
      "C:\\Users\\lawre\\AppData\\Local\\Temp\\ipykernel_9844\\2549342694.py:8: DeprecationWarning: The parameter \"ln\" is deprecated since v2.5.2. Instead of ln=1 use new_x=XPos.LMARGIN, new_y=YPos.NEXT.\n",
      "  pdf.cell(20, 100, 'Text using cell method', 0, 1, 'C')\n"
     ]
    }
   ],
   "source": [
    "from fpdf import FPDF\n",
    "\n",
    "pdf = FPDF()\n",
    "pdf.add_page()\n",
    "pdf.set_font('Arial', '', 12)\n",
    "\n",
    "# 1. Using Cell - creates a rectangular area for text with optional borders\n",
    "pdf.cell(20, 100, 'Text using cell method', 0, 1, 'C')\n",
    "\n",
    "# 2. Using MultiCell - allows text to wrap and span multiple lines\n",
    "pdf.multi_cell(0, 100, 'This text will wrap automatically when it reaches the end of the line. ' * 5)\n",
    "\n",
    "# 3. Using Write - continues on the same line without creating a cell\n",
    "pdf.write(100, 'This text is written with the write method. ')\n",
    "pdf.write(100, 'This continues on the same line.')\n",
    "\n",
    "# 4. Using Text - places text at specific coordinates\n",
    "pdf.text(100, 180, 'This text is placed at coordinates (100, 180)')\n",
    "\n",
    "pdf.output('text_methods.pdf')"
   ]
  },
  {
   "cell_type": "markdown",
   "metadata": {},
   "source": [
    "### Text Method Parameters:\n",
    "\n",
    "- **cell** method parameters:\n",
    "  - Width (200): Width of the cell\n",
    "  - Height (10): Height of the cell\n",
    "  - Text: Content to display\n",
    "  - Border (0): 0 for no border, 1 for border, or a string with 'L', 'R', 'T', 'B' for specific sides\n",
    "  - Line (1): Where to move the cursor after the cell (0: right, 1: beginning of next line, 2: below)\n",
    "  - Align ('C'): Alignment ('L', 'C', 'R' for left, center, right)\n",
    "  \n",
    "- **multi_cell** is ideal for paragraphs as it automatically wraps text. Parameter 0 for width means it extends to the right margin."
   ]
  },
  {
   "cell_type": "markdown",
   "metadata": {},
   "source": [
    "## 4. Formatting Text\n",
    "\n",
    "Let's explore how to format text with different fonts, sizes, colors, and styles."
   ]
  },
  {
   "cell_type": "code",
   "execution_count": 3,
   "metadata": {},
   "outputs": [
    {
     "data": {
      "text/plain": [
       "''"
      ]
     },
     "execution_count": 3,
     "metadata": {},
     "output_type": "execute_result"
    }
   ],
   "source": [
    "from fpdf import FPDF\n",
    "\n",
    "pdf = FPDF()\n",
    "pdf.add_page()\n",
    "\n",
    "# Different styles\n",
    "pdf.set_font('Arial', '', 12)\n",
    "pdf.cell(0, 10, 'Normal text', 0, 1)\n",
    "\n",
    "pdf.set_font('Arial', 'B', 12)\n",
    "pdf.cell(0, 10, 'Bold text', 0, 1)\n",
    "\n",
    "pdf.set_font('Arial', 'I', 12)\n",
    "pdf.cell(0, 10, 'Italic text', 0, 1)\n",
    "\n",
    "pdf.set_font('Arial', 'U', 12)\n",
    "pdf.cell(0, 10, 'Underlined text', 0, 1)\n",
    "\n",
    "pdf.set_font('Arial', 'BIU', 12)  # Bold, Italic and Underlined\n",
    "pdf.cell(0, 10, 'Bold, Italic and Underlined text', 0, 1)\n",
    "\n",
    "# Different sizes\n",
    "for size in [8, 12, 16, 24]:\n",
    "    pdf.set_font('Arial', '', size)\n",
    "    pdf.cell(0, 10, f'This text is {size} pt', 0, 1)\n",
    "\n",
    "# Different colors\n",
    "pdf.set_font('Arial', '', 12)\n",
    "pdf.set_text_color(255, 0, 0)  # RGB for red\n",
    "pdf.cell(0, 10, 'This text is red', 0, 1)\n",
    "\n",
    "pdf.set_text_color(0, 128, 0)  # RGB for green\n",
    "pdf.cell(0, 10, 'This text is green', 0, 1)\n",
    "\n",
    "pdf.output('formatted_text.pdf')"
   ]
  },
  {
   "cell_type": "markdown",
   "metadata": {},
   "source": [
    "## 5. Adding Images\n",
    "\n",
    "FPDF allows you to include various image formats in your PDFs."
   ]
  },
  {
   "cell_type": "code",
   "execution_count": null,
   "metadata": {},
   "outputs": [
    {
     "name": "stderr",
     "output_type": "stream",
     "text": [
      "C:\\Users\\lawre\\AppData\\Local\\Temp\\ipykernel_9844\\2458904106.py:6: DeprecationWarning: Substituting font arial by core font helvetica - This is deprecated since v2.7.8, and will soon be removed\n",
      "  pdf.set_font('Arial', 'B', 16)\n",
      "C:\\Users\\lawre\\AppData\\Local\\Temp\\ipykernel_9844\\2458904106.py:7: DeprecationWarning: The parameter \"ln\" is deprecated since v2.5.2. Instead of ln=1 use new_x=XPos.LMARGIN, new_y=YPos.NEXT.\n",
      "  pdf.cell(0, 50, 'Images Demo', 0, 1, 'C')\n",
      "C:\\Users\\lawre\\AppData\\Local\\Temp\\ipykernel_9844\\2458904106.py:15: DeprecationWarning: The parameter \"ln\" is deprecated since v2.5.2. Instead of ln=1 use new_x=XPos.LMARGIN, new_y=YPos.NEXT.\n",
      "  pdf.cell(0, 10, 'Image added successfully', 0, 1)\n",
      "C:\\Users\\lawre\\AppData\\Local\\Temp\\ipykernel_9844\\2458904106.py:21: DeprecationWarning: Substituting font arial by core font helvetica - This is deprecated since v2.7.8, and will soon be removed\n",
      "  pdf.set_font('Arial', '', 12)\n",
      "C:\\Users\\lawre\\AppData\\Local\\Temp\\ipykernel_9844\\2458904106.py:22: DeprecationWarning: The parameter \"ln\" is deprecated since v2.5.2. Instead of ln=1 use new_x=XPos.LMARGIN, new_y=YPos.NEXT.\n",
      "  pdf.cell(0, 10, 'Image parameters:', 0, 1)\n",
      "C:\\Users\\lawre\\AppData\\Local\\Temp\\ipykernel_9844\\2458904106.py:23: DeprecationWarning: The parameter \"ln\" is deprecated since v2.5.2. Instead of ln=1 use new_x=XPos.LMARGIN, new_y=YPos.NEXT.\n",
      "  pdf.cell(0, 10, '- x, y: Position coordinates', 0, 1)\n",
      "C:\\Users\\lawre\\AppData\\Local\\Temp\\ipykernel_9844\\2458904106.py:24: DeprecationWarning: The parameter \"ln\" is deprecated since v2.5.2. Instead of ln=1 use new_x=XPos.LMARGIN, new_y=YPos.NEXT.\n",
      "  pdf.cell(0, 10, '- w, h: Width and height (omit one to maintain aspect ratio)', 0, 1)\n"
     ]
    }
   ],
   "source": [
    "from fpdf import FPDF\n",
    "import os\n",
    "\n",
    "pdf = FPDF()\n",
    "pdf.add_page()\n",
    "pdf.set_font('Arial', 'B', 16)\n",
    "pdf.cell(0, 10, 'Images Demo', 0, 1, 'C')\n",
    "pdf.ln(10)\n",
    "\n",
    "# Add an image (replace 'example.jpg' with an actual image file path)\n",
    "sample_image = 'stock_market.jpg'\n",
    "if os.path.exists(sample_image):\n",
    "    pdf.image(sample_image, x=10, y=30, w=100)\n",
    "    pdf.ln(110)  # Leave space after the image\n",
    "    pdf.cell(0, 10, 'Image added successfully', 0, 1)\n",
    "else:\n",
    "    pdf.cell(0, 10, 'Image example (image file not found)', 0, 1)\n",
    "    pdf.cell(0, 10, 'Replace \"example.jpg\" with your image path', 0, 1)\n",
    "\n",
    "# Image parameters\n",
    "pdf.set_font('Arial', '', 12)\n",
    "pdf.cell(0, 10, 'Image parameters:', 0, 1)\n",
    "pdf.cell(0, 10, '- x, y: Position coordinates', 0, 1)\n",
    "pdf.cell(0, 10, '- w, h: Width and height (omit one to maintain aspect ratio)', 0, 1)\n",
    "\n",
    "pdf.output('images.pdf')"
   ]
  },
  {
   "cell_type": "markdown",
   "metadata": {},
   "source": [
    "## 6. Creating Tables\n",
    "\n",
    "FPDF doesn't have a built-in table function, but you can create tables using cells."
   ]
  },
  {
   "cell_type": "code",
   "execution_count": 5,
   "metadata": {},
   "outputs": [
    {
     "data": {
      "text/plain": [
       "''"
      ]
     },
     "execution_count": 5,
     "metadata": {},
     "output_type": "execute_result"
    }
   ],
   "source": [
    "from fpdf import FPDF\n",
    "\n",
    "pdf = FPDF()\n",
    "pdf.add_page()\n",
    "pdf.set_font('Arial', 'B', 12)\n",
    "pdf.cell(0, 10, 'Simple Table Example', 0, 1, 'C')\n",
    "pdf.ln(5)\n",
    "\n",
    "# Set column widths\n",
    "col_width = pdf.w / 4.5\n",
    "row_height = 10\n",
    "\n",
    "# Add header row\n",
    "pdf.set_font('Arial', 'B', 12)\n",
    "pdf.cell(col_width, row_height, 'Product', 1, 0, 'C')\n",
    "pdf.cell(col_width, row_height, 'Quantity', 1, 0, 'C')\n",
    "pdf.cell(col_width, row_height, 'Price', 1, 0, 'C')\n",
    "pdf.cell(col_width, row_height, 'Total', 1, 1, 'C')\n",
    "\n",
    "# Add data rows\n",
    "pdf.set_font('Arial', '', 12)\n",
    "products = [\n",
    "    ['Widget A', '10', '$5.00', '$50.00'],\n",
    "    ['Widget B', '5', '$10.00', '$50.00'],\n",
    "    ['Widget C', '8', '$7.50', '$60.00'],\n",
    "    ['Widget D', '12', '$3.75', '$45.00']\n",
    "]\n",
    "\n",
    "for product in products:\n",
    "    pdf.cell(col_width, row_height, product[0], 1, 0, 'L')\n",
    "    pdf.cell(col_width, row_height, product[1], 1, 0, 'C')\n",
    "    pdf.cell(col_width, row_height, product[2], 1, 0, 'R')\n",
    "    pdf.cell(col_width, row_height, product[3], 1, 1, 'R')\n",
    "\n",
    "pdf.output('tables.pdf')"
   ]
  },
  {
   "cell_type": "markdown",
   "metadata": {},
   "source": [
    "## 7. Page Breaks\n",
    "\n",
    "FPDF offers methods to handle page breaks when creating multi-page documents."
   ]
  },
  {
   "cell_type": "code",
   "execution_count": null,
   "metadata": {},
   "outputs": [],
   "source": [
    "from fpdf import FPDF\n",
    "\n",
    "pdf = FPDF()\n",
    "pdf.set_auto_page_break(auto=True, margin=15)\n",
    "\n",
    "# Add first page\n",
    "pdf.add_page()\n",
    "pdf.set_font('Arial', 'B', 14)\n",
    "pdf.cell(0, 10, 'Page Breaks Example', 0, 1, 'C')\n",
    "pdf.ln(5)\n",
    "\n",
    "# Add content with automatic page breaks\n",
    "pdf.set_font('Arial', '', 12)\n",
    "for i in range(1, 80):\n",
    "    pdf.cell(0, 10, f'Line {i}: This demonstrates automatic page breaks.', 0, 1)\n",
    "\n",
    "# Add a manual page break\n",
    "pdf.add_page()\n",
    "pdf.set_font('Arial', 'B', 14)\n",
    "pdf.cell(0, 10, 'Manual Page Break Example', 0, 1, 'C')\n",
    "pdf.set_font('Arial', '', 12)\n",
    "pdf.cell(0, 10, 'This content is on a manually added new page.', 0, 1)\n",
    "\n",
    "pdf.output('page_breaks.pdf')"
   ]
  },
  {
   "cell_type": "markdown",
   "metadata": {},
   "source": [
    "## Combining Features - Complete Example\n",
    "\n",
    "Let's create a more comprehensive document using multiple features."
   ]
  },
  {
   "cell_type": "code",
   "execution_count": 6,
   "metadata": {},
   "outputs": [
    {
     "data": {
      "text/plain": [
       "''"
      ]
     },
     "execution_count": 6,
     "metadata": {},
     "output_type": "execute_result"
    }
   ],
   "source": [
    "from fpdf import FPDF\n",
    "import datetime\n",
    "\n",
    "pdf = FPDF()\n",
    "pdf.add_page()\n",
    "\n",
    "# Title\n",
    "pdf.set_font('Arial', 'B', 16)\n",
    "pdf.cell(0, 10, 'Monthly Sales Report', 0, 1, 'C')\n",
    "pdf.ln(5)\n",
    "\n",
    "# Date\n",
    "pdf.set_font('Arial', 'I', 10)\n",
    "date = datetime.datetime.now().strftime(\"%Y-%m-%d\")\n",
    "pdf.cell(0, 10, f'Generated on: {date}', 0, 1, 'R')\n",
    "\n",
    "# Introduction\n",
    "pdf.set_font('Arial', '', 12)\n",
    "pdf.multi_cell(0, 10, 'This report summarizes the sales performance for the current month. It includes product-wise sales data and overall performance metrics.')\n",
    "pdf.ln(5)\n",
    "\n",
    "# Sales Table\n",
    "pdf.set_font('Arial', 'B', 12)\n",
    "pdf.cell(0, 10, 'Product Sales', 0, 1, 'L')\n",
    "\n",
    "# Set column widths\n",
    "col_width = pdf.w / 4.5\n",
    "row_height = 10\n",
    "\n",
    "# Table header\n",
    "pdf.set_fill_color(200, 220, 255)\n",
    "pdf.cell(col_width, row_height, 'Product', 1, 0, 'C', 1)\n",
    "pdf.cell(col_width, row_height, 'Units Sold', 1, 0, 'C', 1)\n",
    "pdf.cell(col_width, row_height, 'Unit Price', 1, 0, 'C', 1)\n",
    "pdf.cell(col_width, row_height, 'Revenue', 1, 1, 'C', 1)\n",
    "\n",
    "# Table data\n",
    "pdf.set_font('Arial', '', 12)\n",
    "sales_data = [\n",
    "    ['Product A', '120', '$15.00', '$1,800.00'],\n",
    "    ['Product B', '85', '$25.00', '$2,125.00'],\n",
    "    ['Product C', '210', '$10.00', '$2,100.00'],\n",
    "    ['Product D', '35', '$45.00', '$1,575.00']\n",
    "]\n",
    "\n",
    "for data in sales_data:\n",
    "    pdf.cell(col_width, row_height, data[0], 1, 0, 'L')\n",
    "    pdf.cell(col_width, row_height, data[1], 1, 0, 'C')\n",
    "    pdf.cell(col_width, row_height, data[2], 1, 0, 'R')\n",
    "    pdf.cell(col_width, row_height, data[3], 1, 1, 'R')\n",
    "\n",
    "# Total\n",
    "pdf.set_font('Arial', 'B', 12)\n",
    "pdf.cell(col_width * 3, row_height, 'Total Revenue', 1, 0, 'L')\n",
    "pdf.cell(col_width, row_height, '$7,600.00', 1, 1, 'R')\n",
    "pdf.ln(10)\n",
    "\n",
    "# Summary\n",
    "pdf.set_font('Arial', 'B', 12)\n",
    "pdf.cell(0, 10, 'Performance Summary', 0, 1, 'L')\n",
    "pdf.set_font('Arial', '', 12)\n",
    "pdf.multi_cell(0, 10, 'Overall sales performance increased by 12% compared to the previous month. Product C showed the highest volume of sales, while Product B generated the most revenue per unit.')\n",
    "\n",
    "# Colored text for highlights\n",
    "pdf.ln(5)\n",
    "pdf.set_font('Arial', 'B', 12)\n",
    "pdf.set_text_color(0, 128, 0)  # Green\n",
    "pdf.cell(0, 10, 'Top Performer: Product B', 0, 1, 'L')\n",
    "pdf.set_text_color(255, 0, 0)  # Red\n",
    "pdf.cell(0, 10, 'Needs Attention: Product D', 0, 1, 'L')\n",
    "\n",
    "pdf.output('sales_report.pdf')"
   ]
  }
 ],
 "metadata": {
  "kernelspec": {
   "display_name": "Python 3",
   "language": "python",
   "name": "python3"
  },
  "language_info": {
   "codemirror_mode": {
    "name": "ipython",
    "version": 3
   },
   "file_extension": ".py",
   "mimetype": "text/x-python",
   "name": "python",
   "nbconvert_exporter": "python",
   "pygments_lexer": "ipython3",
   "version": "3.13.3"
  }
 },
 "nbformat": 4,
 "nbformat_minor": 4
}
