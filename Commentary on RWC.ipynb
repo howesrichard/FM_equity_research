{
 "cells": [
  {
   "cell_type": "code",
   "execution_count": 10,
   "id": "97a097c8",
   "metadata": {},
   "outputs": [
    {
     "name": "stdout",
     "output_type": "stream",
     "text": [
      "Company Overview:\n",
      "\n",
      "Reliance Worldwide Corporation is a global manufacturer and distributor of water flow, control, and plumbing products.  The company, which began in Brisbane, Australia, is headquartered in Atlanta and operates in the Americas, Asia-Pacific, and EMEA regions.  RWC's portfolio includes unique brands including SharkBite, HoldRite, John Guest, and EZ-Flo, which serve both the residential and commercial building industries.  Its principal products cater to the repair and remodel (R&R), new construction, and maintenance markets.  RWC is known for pioneering push-to-connect (PTC) technology in plumbing fittings, and it has steadily expanded its product line to encompass pipe systems, appliance connectors and water heater accessories.  The company employs a vertically integrated approach, with manufacturing facilities in the United States, United Kingdom, Australia, Spain, and China, and focusses on supply chain efficiency, ESG leadership, and customer-centric innovation.\n",
      "\n",
      "\n"
     ]
    }
   ],
   "source": [
    "#Importing commentary in seperate .txt files if needed to reformat in PDF later\n",
    "\n",
    "# Importing Company Overview\n",
    "with open(r\"C:\\Users\\Felix\\OneDrive\\BAFE\\BAFE Y3 S1\\FINM3422\\Company Overview.txt\", 'r') as file:\n",
    "    company_overview = file.read()\n",
    "\n",
    "# Printing the content\n",
    "print(company_overview)\n"
   ]
  },
  {
   "cell_type": "code",
   "execution_count": 4,
   "id": "ffb07ce6",
   "metadata": {},
   "outputs": [
    {
     "name": "stdout",
     "output_type": "stream",
     "text": [
      "Financial Highlights\n",
      "\n",
      "FY2024 Comments:\n",
      "\n",
      "RWC reported revenue of US$1,245.8 million in FY2024, a 0.2% increase over the previous year.  Adjusted EBITDA remained constant at US$274.6 million, indicating effective expense control.  One-time charges reduced reported net profit after tax by 21% to US$110.1 million, while adjusted net profit fell 6% to US$146.9 million.  The findings indicate sluggish housing and renovation activity, especially in North America and EMEA.\n",
      "\n",
      "HY2025 Comments:\n",
      "\n",
      "Performance improved over the first half of fiscal year 2025.  Revenue increased 14.8% to US$676.5 million, driven by acquiring Holman Industries and 3.8% organic growth.  Adjusted net profit increased to $76.0 million, with EBITDA margin reaching 22.2% (without Holman).  Operating cash flow remained solid, with 88% EBITDA conversion, and the net debt-to-EBITDA ratio improved to 1.41x.\n"
     ]
    }
   ],
   "source": [
    "# Importing Financial Highlights\n",
    "with open(r\"C:\\Users\\Felix\\OneDrive\\BAFE\\BAFE Y3 S1\\FINM3422\\Financial Highlights.txt\", 'r') as file:\n",
    "    financial_highlights = file.read()\n",
    "\n",
    "# Printing the content\n",
    "print(financial_highlights)"
   ]
  },
  {
   "cell_type": "code",
   "execution_count": 7,
   "id": "f546991a",
   "metadata": {},
   "outputs": [
    {
     "name": "stdout",
     "output_type": "stream",
     "text": [
      "Strategic Growth:\n",
      "\n",
      "The acquisition of Holman Industries in March 2024 expanded outdoor water product offerings and commercial distribution channels.  Holman provided A$111 million to sales in HY2025, helping increase Asia-Pacific revenue by 87%.  Integration expenses were negligible, and early synergies saved US$10.8 million.\n",
      "\n",
      "RWC is continuing to grow its SharkBite Max product line through retail distribution, including Bunnings stores in Australia.  To save money and increase productivity, the company is combining warehouses and upgrading its ERP system.  Despite inflationary pressures, these improvements help to boost margins.\n"
     ]
    }
   ],
   "source": [
    "# Importing Strategic Growth\n",
    "with open(r\"C:\\Users\\Felix\\OneDrive\\BAFE\\BAFE Y3 S1\\FINM3422\\Strategic Growth.txt\", 'r') as file:\n",
    "    strategic_growth = file.read()\n",
    "\n",
    "# Printing the content\n",
    "print(strategic_growth)"
   ]
  },
  {
   "cell_type": "code",
   "execution_count": 8,
   "id": "611a177e",
   "metadata": {},
   "outputs": [
    {
     "name": "stdout",
     "output_type": "stream",
     "text": [
      "Sustainability:\n",
      "\n",
      "RWC aims to reach net zero Scope 1 and 2 emissions by 2050, with a 42% reduction goal by 2030 from its FY2021 baseline.  The corporation has already decreased its emissions by 35%.  It has also introduced products made from recycled materials, such as Holman's ECO collection.  These approaches improve operational sustainability and meet global ESG expectations.\n"
     ]
    }
   ],
   "source": [
    "# Importing Sustainability\n",
    "with open(r\"C:\\Users\\Felix\\OneDrive\\BAFE\\BAFE Y3 S1\\FINM3422\\Sustainability.txt\", 'r') as file:\n",
    "    sustainability = file.read()\n",
    "\n",
    "# Printing the content\n",
    "print(sustainability)"
   ]
  },
  {
   "cell_type": "code",
   "execution_count": 5,
   "id": "3b35129b",
   "metadata": {},
   "outputs": [
    {
     "name": "stdout",
     "output_type": "stream",
     "text": [
      "Market outlook:\n",
      "\n",
      "RWC's share price is estimated to be A$3.84 in April 2025.  According to Simply Wall St's analysis, the stock is trading at a 15.3x P/E ratio, which is considered undervalued relative to its projected fair value of A$5.16, implying a possible 27% increase. â€‹\n",
      "\n",
      "Morningstar maintains a fair value estimate of A$4.20 for RWC, implying that the current market price is an 18% discount.  Analyst Grant Slade predicts that further gains in the push-to-connect fittings category will result in significant earnings growth.\n",
      "\n",
      "Both platforms highlight RWC's commitment to shareholder returns, which includes a current dividend yield of around 2% and an ongoing share buyback program.  These elements, together with the company's strategic efforts and market positioning, point to a promising future for investors seeking long-term value.\n",
      "\n",
      "Jarden recently upgraded RWC to Overweight, keeping the target price at A$5.60, noting good margin resilience, product innovation, and growth in key plumbing markets despite adverse housing dynamics.  UBS downgraded the company to Neutral, decreasing its target by 4% to A$5.60, from softer sales forecast and macro headwinds with inflation and increased material costs.  Both foresee consistent earnings growth, with FY25 EPS ranging from 29 to 31 cents and FY26 EPS ranging from 32 to 35 cents.\n"
     ]
    }
   ],
   "source": [
    "# Importing Market outlook  \n",
    "with open(r\"C:\\Users\\Felix\\OneDrive\\BAFE\\BAFE Y3 S1\\FINM3422\\Market outlook.txt\", 'r') as file:\n",
    "    market_outlook = file.read()\n",
    "\n",
    "# Printing the content\n",
    "print(market_outlook)"
   ]
  },
  {
   "cell_type": "code",
   "execution_count": 11,
   "id": "28cc62c8",
   "metadata": {},
   "outputs": [
    {
     "name": "stdout",
     "output_type": "stream",
     "text": [
      "References:\n",
      "\n",
      "Simply Wall St. (2025). Reliance Worldwide Corporation Limited (ASX:RWC) Stock Report. Retrieved from https://simplywall.st/stocks/au/capital-goods/asx-rwc/reliance-worldwide-sharesâ€‹\n",
      "\n",
      "Morningstar. (2025). Reliance has pipeline of growth. Retrieved from https://www.morningstar.com.au/stocks/reliance-has-pipeline-of-growth\n",
      "\n",
      "Reliance Worldwide Corporation. (2024). Annual Report 2024. Retrieved from https://www.rwc.com/investors/reports/annual-reports\n",
      "\n",
      "Reliance Worldwide Corporation. (2025, February 18). FY25 Interim Results Presentation. Retrieved from https://www.rwc.com/investors/reports/interim-results\n",
      "\n",
      "TipRanks. (2025, April). RWC analyst consensus and price targets. Retrieved from https://www.tipranks.com/stocks/au:rwc/forecast\n",
      "\n",
      "TradingView. (2025, April). RWC stock chart and broker target ranges. Retrieved from https://www.tradingview.com/symbols/ASX-RWC/\n",
      "\n",
      "FNArena. (2025). Reliance Worldwide Corporation Ltd (RWC) stock analysis and broker consensus. Retrieved from https://fnarena.com/stock-price-analysis/building-products-services/RWC/\n"
     ]
    }
   ],
   "source": [
    "# Importing References\n",
    "with open(r\"C:\\Users\\Felix\\OneDrive\\BAFE\\BAFE Y3 S1\\FINM3422\\References.txt\", 'r') as file:\n",
    "    references = file.read()\n",
    "\n",
    "# Printing the content\n",
    "print(references)"
   ]
  }
 ],
 "metadata": {
  "kernelspec": {
   "display_name": "Python 3",
   "language": "python",
   "name": "python3"
  },
  "language_info": {
   "codemirror_mode": {
    "name": "ipython",
    "version": 3
   },
   "file_extension": ".py",
   "mimetype": "text/x-python",
   "name": "python",
   "nbconvert_exporter": "python",
   "pygments_lexer": "ipython3",
   "version": "3.13.2"
  }
 },
 "nbformat": 4,
 "nbformat_minor": 5
}
